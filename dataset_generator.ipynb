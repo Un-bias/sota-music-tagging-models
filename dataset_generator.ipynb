{
 "cells": [
  {
   "cell_type": "code",
   "execution_count": 6,
   "metadata": {},
   "outputs": [
    {
     "data": {
      "text/html": [
       "<div>\n",
       "<style scoped>\n",
       "    .dataframe tbody tr th:only-of-type {\n",
       "        vertical-align: middle;\n",
       "    }\n",
       "\n",
       "    .dataframe tbody tr th {\n",
       "        vertical-align: top;\n",
       "    }\n",
       "\n",
       "    .dataframe thead th {\n",
       "        text-align: right;\n",
       "    }\n",
       "</style>\n",
       "<table border=\"1\" class=\"dataframe\">\n",
       "  <thead>\n",
       "    <tr style=\"text-align: right;\">\n",
       "      <th></th>\n",
       "      <th>id</th>\n",
       "      <th>song</th>\n",
       "      <th>artist</th>\n",
       "      <th>timestamp</th>\n",
       "      <th>isrc</th>\n",
       "      <th>release_date</th>\n",
       "      <th>tags</th>\n",
       "    </tr>\n",
       "  </thead>\n",
       "  <tbody>\n",
       "    <tr>\n",
       "      <th>0</th>\n",
       "      <td>00068568.m4a</td>\n",
       "      <td>The News</td>\n",
       "      <td>PARTYNEXTDOOR</td>\n",
       "      <td>2021-01-18T22:52:47.957Z</td>\n",
       "      <td>USWB11902977</td>\n",
       "      <td>2019-11-20T00:00:00.000Z</td>\n",
       "      <td>R&amp;B/SOUL</td>\n",
       "    </tr>\n",
       "    <tr>\n",
       "      <th>1</th>\n",
       "      <td>00044325.m4a</td>\n",
       "      <td>DNYIML</td>\n",
       "      <td>Just Bella, André Nine, NOX</td>\n",
       "      <td>2021-01-18T22:52:47.957Z</td>\n",
       "      <td>BXNXI2000003</td>\n",
       "      <td>2020-04-16T00:00:00.000Z</td>\n",
       "      <td>INDIE POP</td>\n",
       "    </tr>\n",
       "    <tr>\n",
       "      <th>2</th>\n",
       "      <td>00048027.m4a</td>\n",
       "      <td>Flaws</td>\n",
       "      <td>Chloe Foy</td>\n",
       "      <td>2021-01-18T22:52:47.957Z</td>\n",
       "      <td>GBXY31300064</td>\n",
       "      <td>2017-05-11T00:00:00.000Z</td>\n",
       "      <td>FOLK</td>\n",
       "    </tr>\n",
       "    <tr>\n",
       "      <th>3</th>\n",
       "      <td>00046784.m4a</td>\n",
       "      <td>Estamos Arriba</td>\n",
       "      <td>Bad Bunny, Myke Towers</td>\n",
       "      <td>2021-01-18T22:52:47.957Z</td>\n",
       "      <td>QM6N21969039</td>\n",
       "      <td>2019-06-13T00:00:00.000Z</td>\n",
       "      <td>URBAN LATIN</td>\n",
       "    </tr>\n",
       "    <tr>\n",
       "      <th>4</th>\n",
       "      <td>00067178.m4a</td>\n",
       "      <td>Sun Queen</td>\n",
       "      <td>Gerry Cinnamon</td>\n",
       "      <td>2021-01-18T22:52:47.957Z</td>\n",
       "      <td>GBKPL1968557</td>\n",
       "      <td>2019-10-11T00:00:00.000Z</td>\n",
       "      <td>ALTERNATIVE</td>\n",
       "    </tr>\n",
       "  </tbody>\n",
       "</table>\n",
       "</div>"
      ],
      "text/plain": [
       "             id            song                        artist  \\\n",
       "0  00068568.m4a        The News                 PARTYNEXTDOOR   \n",
       "1  00044325.m4a          DNYIML  Just Bella, André Nine, NOX   \n",
       "2  00048027.m4a           Flaws                     Chloe Foy   \n",
       "3  00046784.m4a  Estamos Arriba        Bad Bunny, Myke Towers   \n",
       "4  00067178.m4a       Sun Queen                Gerry Cinnamon   \n",
       "\n",
       "                  timestamp          isrc              release_date  \\\n",
       "0  2021-01-18T22:52:47.957Z  USWB11902977  2019-11-20T00:00:00.000Z   \n",
       "1  2021-01-18T22:52:47.957Z  BXNXI2000003  2020-04-16T00:00:00.000Z   \n",
       "2  2021-01-18T22:52:47.957Z  GBXY31300064  2017-05-11T00:00:00.000Z   \n",
       "3  2021-01-18T22:52:47.957Z  QM6N21969039  2019-06-13T00:00:00.000Z   \n",
       "4  2021-01-18T22:52:47.957Z  GBKPL1968557  2019-10-11T00:00:00.000Z   \n",
       "\n",
       "          tags  \n",
       "0     R&B/SOUL  \n",
       "1    INDIE POP  \n",
       "2         FOLK  \n",
       "3  URBAN LATIN  \n",
       "4  ALTERNATIVE  "
      ]
     },
     "execution_count": 6,
     "metadata": {},
     "output_type": "execute_result"
    }
   ],
   "source": [
    "import pandas as pd\n",
    "df = pd.read_csv(\"genre_mapping_v3.csv\")\n",
    "df.head()"
   ]
  },
  {
   "cell_type": "code",
   "execution_count": 8,
   "metadata": {},
   "outputs": [
    {
     "data": {
      "text/html": [
       "<div>\n",
       "<style scoped>\n",
       "    .dataframe tbody tr th:only-of-type {\n",
       "        vertical-align: middle;\n",
       "    }\n",
       "\n",
       "    .dataframe tbody tr th {\n",
       "        vertical-align: top;\n",
       "    }\n",
       "\n",
       "    .dataframe thead th {\n",
       "        text-align: right;\n",
       "    }\n",
       "</style>\n",
       "<table border=\"1\" class=\"dataframe\">\n",
       "  <thead>\n",
       "    <tr style=\"text-align: right;\">\n",
       "      <th></th>\n",
       "      <th>TRACK_ID</th>\n",
       "      <th>ARTIST_ID</th>\n",
       "      <th>isrc</th>\n",
       "      <th>PATH</th>\n",
       "      <th>release_date</th>\n",
       "      <th>TAGS</th>\n",
       "    </tr>\n",
       "  </thead>\n",
       "  <tbody>\n",
       "    <tr>\n",
       "      <th>0</th>\n",
       "      <td>00068568.m4a</td>\n",
       "      <td>PARTYNEXTDOOR</td>\n",
       "      <td>USWB11902977</td>\n",
       "      <td>00068568.m4a</td>\n",
       "      <td>2019-11-20T00:00:00.000Z</td>\n",
       "      <td>R&amp;B/SOUL</td>\n",
       "    </tr>\n",
       "    <tr>\n",
       "      <th>1</th>\n",
       "      <td>00044325.m4a</td>\n",
       "      <td>Just Bella, André Nine, NOX</td>\n",
       "      <td>BXNXI2000003</td>\n",
       "      <td>00044325.m4a</td>\n",
       "      <td>2020-04-16T00:00:00.000Z</td>\n",
       "      <td>INDIE POP</td>\n",
       "    </tr>\n",
       "    <tr>\n",
       "      <th>2</th>\n",
       "      <td>00048027.m4a</td>\n",
       "      <td>Chloe Foy</td>\n",
       "      <td>GBXY31300064</td>\n",
       "      <td>00048027.m4a</td>\n",
       "      <td>2017-05-11T00:00:00.000Z</td>\n",
       "      <td>FOLK</td>\n",
       "    </tr>\n",
       "    <tr>\n",
       "      <th>3</th>\n",
       "      <td>00046784.m4a</td>\n",
       "      <td>Bad Bunny, Myke Towers</td>\n",
       "      <td>QM6N21969039</td>\n",
       "      <td>00046784.m4a</td>\n",
       "      <td>2019-06-13T00:00:00.000Z</td>\n",
       "      <td>URBAN LATIN</td>\n",
       "    </tr>\n",
       "    <tr>\n",
       "      <th>4</th>\n",
       "      <td>00067178.m4a</td>\n",
       "      <td>Gerry Cinnamon</td>\n",
       "      <td>GBKPL1968557</td>\n",
       "      <td>00067178.m4a</td>\n",
       "      <td>2019-10-11T00:00:00.000Z</td>\n",
       "      <td>ALTERNATIVE</td>\n",
       "    </tr>\n",
       "  </tbody>\n",
       "</table>\n",
       "</div>"
      ],
      "text/plain": [
       "       TRACK_ID                     ARTIST_ID          isrc          PATH  \\\n",
       "0  00068568.m4a                 PARTYNEXTDOOR  USWB11902977  00068568.m4a   \n",
       "1  00044325.m4a  Just Bella, André Nine, NOX  BXNXI2000003  00044325.m4a   \n",
       "2  00048027.m4a                     Chloe Foy  GBXY31300064  00048027.m4a   \n",
       "3  00046784.m4a        Bad Bunny, Myke Towers  QM6N21969039  00046784.m4a   \n",
       "4  00067178.m4a                Gerry Cinnamon  GBKPL1968557  00067178.m4a   \n",
       "\n",
       "               release_date         TAGS  \n",
       "0  2019-11-20T00:00:00.000Z     R&B/SOUL  \n",
       "1  2020-04-16T00:00:00.000Z    INDIE POP  \n",
       "2  2017-05-11T00:00:00.000Z         FOLK  \n",
       "3  2019-06-13T00:00:00.000Z  URBAN LATIN  \n",
       "4  2019-10-11T00:00:00.000Z  ALTERNATIVE  "
      ]
     },
     "execution_count": 8,
     "metadata": {},
     "output_type": "execute_result"
    }
   ],
   "source": [
    "df = df[[\"id\",\"artist\",\"isrc\",\"release_date\",\"tags\"]].rename(columns={\"id\":\"TRACK_ID\",\"artist\":\"ARTIST_ID\",\"tags\":\"TAGS\"})\n",
    "df[\"PATH\"] = df[\"TRACK_ID\"]\n",
    "df = df[[\"TRACK_ID\",\"ARTIST_ID\",\"isrc\",\"PATH\",\"release_date\",\"TAGS\"]]\n",
    "df.head()"
   ]
  },
  {
   "cell_type": "code",
   "execution_count": 31,
   "metadata": {},
   "outputs": [],
   "source": [
    "import numpy as np\n",
    "train, validation, test = np.split(df.sample(frac=1, random_state=123), [int(.8*len(df)), int(.9*len(df))])"
   ]
  },
  {
   "cell_type": "code",
   "execution_count": 46,
   "metadata": {},
   "outputs": [
    {
     "data": {
      "text/plain": [
       "33"
      ]
     },
     "execution_count": 46,
     "metadata": {},
     "output_type": "execute_result"
    }
   ],
   "source": [
    "classes = set(train[\"TAGS\"].unique().tolist()) & set(validation[\"TAGS\"].unique().tolist()) & set(test[\"TAGS\"].unique().tolist())\n",
    "len(classes)"
   ]
  },
  {
   "cell_type": "code",
   "execution_count": 49,
   "metadata": {},
   "outputs": [
    {
     "name": "stdout",
     "output_type": "stream",
     "text": [
      "15349 76\n",
      "1919 3\n",
      "1919 10\n"
     ]
    }
   ],
   "source": [
    "# Deleted songs\n",
    "print(len(train), len(train) - len(train[train[\"TAGS\"].isin(classes)]))\n",
    "print(len(validation), len(validation) - len(validation[validation[\"TAGS\"].isin(classes)]))\n",
    "print(len(test), len(test) - len(test[test[\"TAGS\"].isin(classes)]))"
   ]
  },
  {
   "cell_type": "code",
   "execution_count": 47,
   "metadata": {},
   "outputs": [],
   "source": [
    "for df, name in [(train,'train'), (validation,'validation'), (test,'test')]:\n",
    "    df[df[\"TAGS\"].isin(tags)].to_csv(f\"split/genres/{name}.tsv\",sep=\"\\t\",index=False)"
   ]
  }
 ],
 "metadata": {
  "kernelspec": {
   "display_name": "Python 3",
   "language": "python",
   "name": "python3"
  },
  "language_info": {
   "codemirror_mode": {
    "name": "ipython",
    "version": 3
   },
   "file_extension": ".py",
   "mimetype": "text/x-python",
   "name": "python",
   "nbconvert_exporter": "python",
   "pygments_lexer": "ipython3",
   "version": "3.8.5"
  }
 },
 "nbformat": 4,
 "nbformat_minor": 4
}
