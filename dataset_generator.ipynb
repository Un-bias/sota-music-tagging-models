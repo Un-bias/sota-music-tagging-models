{
 "cells": [
  {
   "cell_type": "markdown",
   "metadata": {},
   "source": [
    "# 1. Remove corrupted files\n",
    "```\n",
    ">>> import pandas as pd\n",
    ">>> import os\n",
    ">>> df = pd.read_csv(\"genre_mapping_v3.csv\")\n",
    ">>> df[df[\"id\"].isin(os.listdir('/home/jupyter/models/jamendo-mood/dataset-audios-npy/'))]\n",
    ">>> ids = [id.replace(\".npy\",\".m4a\") for id in os.listdir('/home/jupyter/models/jamendo-mood/dataset-audios-npy/')]\n",
    ">>> df[df[\"id\"].isin(ids)]\n",
    "```"
   ]
  },
  {
   "cell_type": "markdown",
   "metadata": {},
   "source": [
    "# 2. Prepare dataset"
   ]
  },
  {
   "cell_type": "code",
   "execution_count": 1,
   "metadata": {},
   "outputs": [
    {
     "data": {
      "text/html": [
       "<div>\n",
       "<style scoped>\n",
       "    .dataframe tbody tr th:only-of-type {\n",
       "        vertical-align: middle;\n",
       "    }\n",
       "\n",
       "    .dataframe tbody tr th {\n",
       "        vertical-align: top;\n",
       "    }\n",
       "\n",
       "    .dataframe thead th {\n",
       "        text-align: right;\n",
       "    }\n",
       "</style>\n",
       "<table border=\"1\" class=\"dataframe\">\n",
       "  <thead>\n",
       "    <tr style=\"text-align: right;\">\n",
       "      <th></th>\n",
       "      <th>TRACK_ID</th>\n",
       "      <th>ARTIST_ID</th>\n",
       "      <th>isrc</th>\n",
       "      <th>PATH</th>\n",
       "      <th>song</th>\n",
       "      <th>TAGS</th>\n",
       "    </tr>\n",
       "  </thead>\n",
       "  <tbody>\n",
       "    <tr>\n",
       "      <th>0</th>\n",
       "      <td>00053351.m4a</td>\n",
       "      <td>Christopher</td>\n",
       "      <td>DKAZA1800185</td>\n",
       "      <td>00053351.m4a</td>\n",
       "      <td>Irony</td>\n",
       "      <td>low_performing</td>\n",
       "    </tr>\n",
       "    <tr>\n",
       "      <th>1</th>\n",
       "      <td>00066145.m4a</td>\n",
       "      <td>Bellah</td>\n",
       "      <td>GBX722000241</td>\n",
       "      <td>00066145.m4a</td>\n",
       "      <td>Something U Like</td>\n",
       "      <td>low_performing</td>\n",
       "    </tr>\n",
       "    <tr>\n",
       "      <th>2</th>\n",
       "      <td>00043105.m4a</td>\n",
       "      <td>Kastra, Alex Byrne</td>\n",
       "      <td>NLT2H2000081</td>\n",
       "      <td>00043105.m4a</td>\n",
       "      <td>Circles</td>\n",
       "      <td>low_performing</td>\n",
       "    </tr>\n",
       "    <tr>\n",
       "      <th>3</th>\n",
       "      <td>00064407.m4a</td>\n",
       "      <td>Ora the Molecule</td>\n",
       "      <td>GBNH41700015</td>\n",
       "      <td>00064407.m4a</td>\n",
       "      <td>Samurai</td>\n",
       "      <td>low_performing</td>\n",
       "    </tr>\n",
       "    <tr>\n",
       "      <th>4</th>\n",
       "      <td>00044281.m4a</td>\n",
       "      <td>Jon Z, Enrique Iglesias</td>\n",
       "      <td>USSD11900061</td>\n",
       "      <td>00044281.m4a</td>\n",
       "      <td>DESPUES QUE TE PERDI</td>\n",
       "      <td>low_performing</td>\n",
       "    </tr>\n",
       "  </tbody>\n",
       "</table>\n",
       "</div>"
      ],
      "text/plain": [
       "       TRACK_ID                ARTIST_ID          isrc          PATH  \\\n",
       "0  00053351.m4a              Christopher  DKAZA1800185  00053351.m4a   \n",
       "1  00066145.m4a                   Bellah  GBX722000241  00066145.m4a   \n",
       "2  00043105.m4a       Kastra, Alex Byrne  NLT2H2000081  00043105.m4a   \n",
       "3  00064407.m4a         Ora the Molecule  GBNH41700015  00064407.m4a   \n",
       "4  00044281.m4a  Jon Z, Enrique Iglesias  USSD11900061  00044281.m4a   \n",
       "\n",
       "                   song            TAGS  \n",
       "0                 Irony  low_performing  \n",
       "1      Something U Like  low_performing  \n",
       "2               Circles  low_performing  \n",
       "3               Samurai  low_performing  \n",
       "4  DESPUES QUE TE PERDI  low_performing  "
      ]
     },
     "execution_count": 1,
     "metadata": {},
     "output_type": "execute_result"
    }
   ],
   "source": [
    "import pandas as pd\n",
    "df = pd.read_csv(\"split/highlow/validation.tsv\",sep=\"\\t\")\n",
    "df.head()"
   ]
  },
  {
   "cell_type": "code",
   "execution_count": 3,
   "metadata": {},
   "outputs": [
    {
     "data": {
      "text/plain": [
       "array(['low_performing', 'high_performing'], dtype=object)"
      ]
     },
     "execution_count": 3,
     "metadata": {},
     "output_type": "execute_result"
    }
   ],
   "source": [
    "df[\"TAGS\"].unique()"
   ]
  },
  {
   "cell_type": "code",
   "execution_count": 8,
   "metadata": {},
   "outputs": [
    {
     "data": {
      "text/html": [
       "<div>\n",
       "<style scoped>\n",
       "    .dataframe tbody tr th:only-of-type {\n",
       "        vertical-align: middle;\n",
       "    }\n",
       "\n",
       "    .dataframe tbody tr th {\n",
       "        vertical-align: top;\n",
       "    }\n",
       "\n",
       "    .dataframe thead th {\n",
       "        text-align: right;\n",
       "    }\n",
       "</style>\n",
       "<table border=\"1\" class=\"dataframe\">\n",
       "  <thead>\n",
       "    <tr style=\"text-align: right;\">\n",
       "      <th></th>\n",
       "      <th>id</th>\n",
       "      <th>song</th>\n",
       "      <th>artist</th>\n",
       "      <th>title_key</th>\n",
       "      <th>artist_key</th>\n",
       "      <th>isrc</th>\n",
       "      <th>playlist_cummulative</th>\n",
       "      <th>highlow</th>\n",
       "    </tr>\n",
       "  </thead>\n",
       "  <tbody>\n",
       "    <tr>\n",
       "      <th>0</th>\n",
       "      <td>00061857.m4a</td>\n",
       "      <td>Pink</td>\n",
       "      <td>Réelle</td>\n",
       "      <td>pink</td>\n",
       "      <td>reelle</td>\n",
       "      <td>AAA201804198</td>\n",
       "      <td>2</td>\n",
       "      <td>0</td>\n",
       "    </tr>\n",
       "    <tr>\n",
       "      <th>1</th>\n",
       "      <td>00045435.m4a</td>\n",
       "      <td>Do You Wrong</td>\n",
       "      <td>Moh Flow</td>\n",
       "      <td>doyouwrong</td>\n",
       "      <td>mohflow</td>\n",
       "      <td>AEA181700122</td>\n",
       "      <td>16</td>\n",
       "      <td>0</td>\n",
       "    </tr>\n",
       "    <tr>\n",
       "      <th>2</th>\n",
       "      <td>00057041.m4a</td>\n",
       "      <td>Manifest</td>\n",
       "      <td>CORIN</td>\n",
       "      <td>manifest</td>\n",
       "      <td>corin</td>\n",
       "      <td>AEA1B1700224</td>\n",
       "      <td>1</td>\n",
       "      <td>0</td>\n",
       "    </tr>\n",
       "    <tr>\n",
       "      <th>3</th>\n",
       "      <td>00068563.m4a</td>\n",
       "      <td>The New Flesh</td>\n",
       "      <td>CORIN</td>\n",
       "      <td>thenewflesh</td>\n",
       "      <td>corin</td>\n",
       "      <td>AEA1B1700225</td>\n",
       "      <td>1</td>\n",
       "      <td>0</td>\n",
       "    </tr>\n",
       "    <tr>\n",
       "      <th>4</th>\n",
       "      <td>00060501.m4a</td>\n",
       "      <td>One More Dance (with Alida)</td>\n",
       "      <td>R3HAB, Alida</td>\n",
       "      <td>onemoredancewithalida</td>\n",
       "      <td>r3hab</td>\n",
       "      <td>AEA2D2000002</td>\n",
       "      <td>710</td>\n",
       "      <td>1</td>\n",
       "    </tr>\n",
       "  </tbody>\n",
       "</table>\n",
       "</div>"
      ],
      "text/plain": [
       "             id                         song        artist  \\\n",
       "0  00061857.m4a                         Pink       Réelle   \n",
       "1  00045435.m4a                 Do You Wrong      Moh Flow   \n",
       "2  00057041.m4a                     Manifest         CORIN   \n",
       "3  00068563.m4a                The New Flesh         CORIN   \n",
       "4  00060501.m4a  One More Dance (with Alida)  R3HAB, Alida   \n",
       "\n",
       "               title_key artist_key          isrc  playlist_cummulative  \\\n",
       "0                   pink     reelle  AAA201804198                     2   \n",
       "1             doyouwrong    mohflow  AEA181700122                    16   \n",
       "2               manifest      corin  AEA1B1700224                     1   \n",
       "3            thenewflesh      corin  AEA1B1700225                     1   \n",
       "4  onemoredancewithalida      r3hab  AEA2D2000002                   710   \n",
       "\n",
       "   highlow  \n",
       "0        0  \n",
       "1        0  \n",
       "2        0  \n",
       "3        0  \n",
       "4        1  "
      ]
     },
     "execution_count": 8,
     "metadata": {},
     "output_type": "execute_result"
    }
   ],
   "source": [
    "import pandas as pd\n",
    "df = pd.read_csv(\"highlow_mapping.csv\")\n",
    "df.head()"
   ]
  },
  {
   "cell_type": "code",
   "execution_count": 9,
   "metadata": {},
   "outputs": [
    {
     "data": {
      "text/html": [
       "<div>\n",
       "<style scoped>\n",
       "    .dataframe tbody tr th:only-of-type {\n",
       "        vertical-align: middle;\n",
       "    }\n",
       "\n",
       "    .dataframe tbody tr th {\n",
       "        vertical-align: top;\n",
       "    }\n",
       "\n",
       "    .dataframe thead th {\n",
       "        text-align: right;\n",
       "    }\n",
       "</style>\n",
       "<table border=\"1\" class=\"dataframe\">\n",
       "  <thead>\n",
       "    <tr style=\"text-align: right;\">\n",
       "      <th></th>\n",
       "      <th>TRACK_ID</th>\n",
       "      <th>ARTIST_ID</th>\n",
       "      <th>isrc</th>\n",
       "      <th>PATH</th>\n",
       "      <th>song</th>\n",
       "      <th>TAGS</th>\n",
       "    </tr>\n",
       "  </thead>\n",
       "  <tbody>\n",
       "    <tr>\n",
       "      <th>0</th>\n",
       "      <td>00061857.m4a</td>\n",
       "      <td>Réelle</td>\n",
       "      <td>AAA201804198</td>\n",
       "      <td>00061857.m4a</td>\n",
       "      <td>Pink</td>\n",
       "      <td>0</td>\n",
       "    </tr>\n",
       "    <tr>\n",
       "      <th>1</th>\n",
       "      <td>00045435.m4a</td>\n",
       "      <td>Moh Flow</td>\n",
       "      <td>AEA181700122</td>\n",
       "      <td>00045435.m4a</td>\n",
       "      <td>Do You Wrong</td>\n",
       "      <td>0</td>\n",
       "    </tr>\n",
       "    <tr>\n",
       "      <th>2</th>\n",
       "      <td>00057041.m4a</td>\n",
       "      <td>CORIN</td>\n",
       "      <td>AEA1B1700224</td>\n",
       "      <td>00057041.m4a</td>\n",
       "      <td>Manifest</td>\n",
       "      <td>0</td>\n",
       "    </tr>\n",
       "    <tr>\n",
       "      <th>3</th>\n",
       "      <td>00068563.m4a</td>\n",
       "      <td>CORIN</td>\n",
       "      <td>AEA1B1700225</td>\n",
       "      <td>00068563.m4a</td>\n",
       "      <td>The New Flesh</td>\n",
       "      <td>0</td>\n",
       "    </tr>\n",
       "    <tr>\n",
       "      <th>4</th>\n",
       "      <td>00060501.m4a</td>\n",
       "      <td>R3HAB, Alida</td>\n",
       "      <td>AEA2D2000002</td>\n",
       "      <td>00060501.m4a</td>\n",
       "      <td>One More Dance (with Alida)</td>\n",
       "      <td>1</td>\n",
       "    </tr>\n",
       "  </tbody>\n",
       "</table>\n",
       "</div>"
      ],
      "text/plain": [
       "       TRACK_ID     ARTIST_ID          isrc          PATH  \\\n",
       "0  00061857.m4a       Réelle  AAA201804198  00061857.m4a   \n",
       "1  00045435.m4a      Moh Flow  AEA181700122  00045435.m4a   \n",
       "2  00057041.m4a         CORIN  AEA1B1700224  00057041.m4a   \n",
       "3  00068563.m4a         CORIN  AEA1B1700225  00068563.m4a   \n",
       "4  00060501.m4a  R3HAB, Alida  AEA2D2000002  00060501.m4a   \n",
       "\n",
       "                          song  TAGS  \n",
       "0                         Pink     0  \n",
       "1                 Do You Wrong     0  \n",
       "2                     Manifest     0  \n",
       "3                The New Flesh     0  \n",
       "4  One More Dance (with Alida)     1  "
      ]
     },
     "execution_count": 9,
     "metadata": {},
     "output_type": "execute_result"
    }
   ],
   "source": [
    "df = df[[\"id\",\"artist\",\"isrc\",\"song\",\"highlow\"]].rename(columns={\"id\":\"TRACK_ID\",\"artist\":\"ARTIST_ID\",\"highlow\":\"TAGS\"})\n",
    "df[\"PATH\"] = df[\"TRACK_ID\"]\n",
    "df = df[[\"TRACK_ID\",\"ARTIST_ID\",\"isrc\",\"PATH\",\"song\",\"TAGS\"]]\n",
    "df.head()"
   ]
  },
  {
   "cell_type": "code",
   "execution_count": 10,
   "metadata": {},
   "outputs": [],
   "source": [
    "df[\"TAGS\"] = df[\"TAGS\"].replace(0, \"low_performing\").replace(1, \"high_performing\")"
   ]
  },
  {
   "cell_type": "code",
   "execution_count": 11,
   "metadata": {},
   "outputs": [],
   "source": [
    "import numpy as np\n",
    "train, validation, test = np.split(df.sample(frac=1, random_state=123), [int(.8*len(df)), int(.9*len(df))])"
   ]
  },
  {
   "cell_type": "code",
   "execution_count": 12,
   "metadata": {},
   "outputs": [
    {
     "data": {
      "text/plain": [
       "2"
      ]
     },
     "execution_count": 12,
     "metadata": {},
     "output_type": "execute_result"
    }
   ],
   "source": [
    "classes = set(train[\"TAGS\"].unique().tolist()) & set(validation[\"TAGS\"].unique().tolist()) & set(test[\"TAGS\"].unique().tolist())\n",
    "len(classes)"
   ]
  },
  {
   "cell_type": "code",
   "execution_count": 13,
   "metadata": {},
   "outputs": [
    {
     "data": {
      "text/plain": [
       "['low_performing', 'high_performing']"
      ]
     },
     "execution_count": 13,
     "metadata": {},
     "output_type": "execute_result"
    }
   ],
   "source": [
    "list(classes)"
   ]
  },
  {
   "cell_type": "code",
   "execution_count": 14,
   "metadata": {},
   "outputs": [
    {
     "name": "stdout",
     "output_type": "stream",
     "text": [
      "16492 0\n",
      "2061 0\n",
      "2062 0\n"
     ]
    }
   ],
   "source": [
    "# Deleted songs\n",
    "print(len(train), len(train) - len(train[train[\"TAGS\"].isin(classes)]))\n",
    "print(len(validation), len(validation) - len(validation[validation[\"TAGS\"].isin(classes)]))\n",
    "print(len(test), len(test) - len(test[test[\"TAGS\"].isin(classes)]))"
   ]
  },
  {
   "cell_type": "code",
   "execution_count": 15,
   "metadata": {},
   "outputs": [],
   "source": [
    "for df, name in [(train,'train'), (validation,'validation'), (test,'test')]:\n",
    "    df[df[\"TAGS\"].isin(classes)].to_csv(f\"split/highlow/{name}.tsv\",sep=\"\\t\",index=False)"
   ]
  },
  {
   "cell_type": "markdown",
   "metadata": {},
   "source": [
    "# 3. Modify tags and models output dimensions"
   ]
  },
  {
   "cell_type": "markdown",
   "metadata": {},
   "source": [
    "# 4. Train\n",
    "```shell\n",
    "python -u main.py --data_path /home/jupyter/models/jamendo-mood/dataset-audios-npy/ --model_type hcnn --batch_size 32 --model_save_path ./../models/hcnn_pth\n",
    "```"
   ]
  }
 ],
 "metadata": {
  "kernelspec": {
   "display_name": "Python 3",
   "language": "python",
   "name": "python3"
  },
  "language_info": {
   "codemirror_mode": {
    "name": "ipython",
    "version": 3
   },
   "file_extension": ".py",
   "mimetype": "text/x-python",
   "name": "python",
   "nbconvert_exporter": "python",
   "pygments_lexer": "ipython3",
   "version": "3.8.5"
  }
 },
 "nbformat": 4,
 "nbformat_minor": 4
}
